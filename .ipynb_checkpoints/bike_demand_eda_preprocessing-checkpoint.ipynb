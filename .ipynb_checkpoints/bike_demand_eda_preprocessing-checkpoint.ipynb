{
 "cells": [
  {
   "cell_type": "markdown",
   "id": "a347a080",
   "metadata": {},
   "source": [
    "# 🚴 Bike Rental Demand Prediction - Data Exploration & Preprocessing"
   ]
  },
  {
   "cell_type": "markdown",
   "id": "d65018c0",
   "metadata": {},
   "source": [
    "## Step 1: Data Loading"
   ]
  },
  {
   "cell_type": "code",
   "execution_count": null,
   "id": "fc358560",
   "metadata": {},
   "outputs": [],
   "source": [
    "\n",
    "import pandas as pd\n",
    "\n",
    "# Load dataset\n",
    "df = pd.read_csv(\"hour.csv\")\n",
    "df['dteday'] = pd.to_datetime(df['dteday'])  # convert date\n",
    "df.head()\n",
    "    "
   ]
  },
  {
   "cell_type": "markdown",
   "id": "06fdb3ba",
   "metadata": {},
   "source": [
    "## Step 1: Data Visualization"
   ]
  },
  {
   "cell_type": "code",
   "execution_count": null,
   "id": "22b80cd4",
   "metadata": {},
   "outputs": [],
   "source": [
    "\n",
    "import seab as sns\n",
    "import matplotlib.pyplot as plt\n",
    "\n",
    "# Average hourly demand\n",
    "plt.figure(figsize=(12, 5))\n",
    "sns.pointplot(data=df, x='hr', y='cnt', ci=None)\n",
    "plt.title(\"Average Hourly Bike Demand\")\n",
    "plt.xlabel(\"Hour of Day\")\n",
    "plt.ylabel(\"Average Count\")\n",
    "plt.grid(True)\n",
    "plt.show()\n",
    "    "
   ]
  },
  {
   "cell_type": "code",
   "execution_count": null,
   "id": "0dc5ac1c",
   "metadata": {},
   "outputs": [],
   "source": [
    "\n",
    "# Correlation heatmap\n",
    "plt.figure(figsize=(12, 8))\n",
    "sns.heatmap(df.corr(), annot=True, fmt=\".2f\", cmap='coolwarm', square=True)\n",
    "plt.title(\"Feature Correlation Matrix\")\n",
    "plt.show()\n",
    "    "
   ]
  },
  {
   "cell_type": "code",
   "execution_count": null,
   "id": "d7cb5b30",
   "metadata": {},
   "outputs": [],
   "source": [
    "\n",
    "# Outlier detection with boxplots\n",
    "numerical_cols = ['cnt', 'temp', 'hum', 'windspeed']\n",
    "plt.figure(figsize=(14, 8))\n",
    "for i, col in enumerate(numerical_cols, 1):\n",
    "    plt.subplot(2, 2, i)\n",
    "    sns.boxplot(data=df, y=col)\n",
    "    plt.title(f'Boxplot of {col}')\n",
    "plt.tight_layout()\n",
    "plt.show()\n",
    "    "
   ]
  },
  {
   "cell_type": "markdown",
   "id": "3db4c518",
   "metadata": {},
   "source": [
    "## Step 2: Feature Engineering"
   ]
  },
  {
   "cell_type": "code",
   "execution_count": null,
   "id": "eb085840",
   "metadata": {},
   "outputs": [],
   "source": [
    "\n",
    "# Extract features from datetime\n",
    "df['day'] = df['dteday'].dt.day\n",
    "df['month'] = df['dteday'].dt.month\n",
    "df['year'] = df['dteday'].dt.year\n",
    "df['dayofweek'] = df['dteday'].dt.dayofweek\n",
    "df.head()\n",
    "    "
   ]
  },
  {
   "cell_type": "markdown",
   "id": "69ff9ade",
   "metadata": {},
   "source": [
    "## Step 2: Encode Categorical Variables"
   ]
  },
  {
   "cell_type": "code",
   "execution_count": null,
   "id": "183d5d95",
   "metadata": {},
   "outputs": [],
   "source": [
    "\n",
    "# One-hot encode selected categorical features\n",
    "categorical_features = ['season', 'weathersit', 'mnth', 'hr', 'weekday', 'holiday', 'workingday']\n",
    "df_encoded = pd.get_dummies(df, columns=categorical_features, drop_first=True)\n",
    "df_encoded.head()\n",
    "    "
   ]
  },
  {
   "cell_type": "markdown",
   "id": "fe253534",
   "metadata": {},
   "source": [
    "## Step 2: Normalize Numerical Features"
   ]
  },
  {
   "cell_type": "code",
   "execution_count": null,
   "id": "dd68bde7",
   "metadata": {},
   "outputs": [],
   "source": [
    "\n",
    "from sklearn.preprocessing import StandardScaler\n",
    "\n",
    "scaler = StandardScaler()\n",
    "scaled_features = ['temp', 'atemp', 'hum', 'windspeed']\n",
    "df_encoded[scaled_features] = scaler.fit_transform(df_encoded[scaled_features])\n",
    "df_encoded.head()\n",
    "    "
   ]
  }
 ],
 "metadata": {},
 "nbformat": 4,
 "nbformat_minor": 5
}